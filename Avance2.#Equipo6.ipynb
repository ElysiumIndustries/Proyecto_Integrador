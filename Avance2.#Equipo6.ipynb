{
 "cells": [
  {
   "cell_type": "markdown",
   "id": "9acb4c82-60a9-4b91-a115-5be994cf53c5",
   "metadata": {},
   "source": [
    "## Curso: Proyecto Integrador\n",
    "### Integrantes:\n",
    "\n",
    "#### Andrea Carolina Garza Nacif A01280427\n",
    "#### Jhamyr Arnulfo Alcalde Oballe A01795409\n",
    "#### Víctor Arista Beltrán A01012223"
   ]
  },
  {
   "cell_type": "code",
   "execution_count": 1,
   "id": "ace6415f-476e-4a57-bac8-462fc15b0466",
   "metadata": {},
   "outputs": [],
   "source": [
    "import pandas as pd\n",
    "import numpy as np\n",
    "from pathlib import Path\n",
    "from IPython.display import Markdown, display\n",
    "from sklearn.compose import ColumnTransformer\n",
    "from sklearn.preprocessing import OneHotEncoder, StandardScaler\n",
    "from sklearn.impute import SimpleImputer\n",
    "from sklearn.feature_selection import VarianceThreshold\n",
    "from sklearn.decomposition import PCA\n",
    "from sklearn.pipeline import Pipeline"
   ]
  },
  {
   "cell_type": "code",
   "execution_count": 2,
   "id": "f7ed63ff-5cc0-4eda-94c5-b4e175892332",
   "metadata": {},
   "outputs": [
    {
     "name": "stdout",
     "output_type": "stream",
     "text": [
      "Shape original: (651, 16)\n"
     ]
    },
    {
     "data": {
      "text/html": [
       "<div>\n",
       "<style scoped>\n",
       "    .dataframe tbody tr th:only-of-type {\n",
       "        vertical-align: middle;\n",
       "    }\n",
       "\n",
       "    .dataframe tbody tr th {\n",
       "        vertical-align: top;\n",
       "    }\n",
       "\n",
       "    .dataframe thead th {\n",
       "        text-align: right;\n",
       "    }\n",
       "</style>\n",
       "<table border=\"1\" class=\"dataframe\">\n",
       "  <thead>\n",
       "    <tr style=\"text-align: right;\">\n",
       "      <th></th>\n",
       "      <th>Megatrend</th>\n",
       "      <th>Area</th>\n",
       "      <th>Firm</th>\n",
       "      <th>Short Description</th>\n",
       "      <th>Keywords</th>\n",
       "      <th>Role of Utility</th>\n",
       "      <th>Website</th>\n",
       "      <th>Twitter Handle</th>\n",
       "      <th>Country</th>\n",
       "      <th>Language</th>\n",
       "      <th>Year Founded</th>\n",
       "      <th>Funding Status</th>\n",
       "      <th>Total Funding Amount (National Currency)</th>\n",
       "      <th>Currency</th>\n",
       "      <th>Total Funding Amount (USD)</th>\n",
       "      <th>IPO Date</th>\n",
       "    </tr>\n",
       "  </thead>\n",
       "  <tbody>\n",
       "    <tr>\n",
       "      <th>0</th>\n",
       "      <td>Other</td>\n",
       "      <td>Energy Storage</td>\n",
       "      <td>Aceleron</td>\n",
       "      <td>Develops serviceable, upgradeable, and recycla...</td>\n",
       "      <td>Battery, Circular Economy</td>\n",
       "      <td>NaN</td>\n",
       "      <td>aceleronenergy.com</td>\n",
       "      <td>NaN</td>\n",
       "      <td>United Kingdom</td>\n",
       "      <td>English</td>\n",
       "      <td>2016-01-01</td>\n",
       "      <td>Private</td>\n",
       "      <td>£10.6 million</td>\n",
       "      <td>USD</td>\n",
       "      <td>14098000.0</td>\n",
       "      <td>NaT</td>\n",
       "    </tr>\n",
       "    <tr>\n",
       "      <th>1</th>\n",
       "      <td>Clean Energy</td>\n",
       "      <td>Renewable Energy</td>\n",
       "      <td>ACME Group</td>\n",
       "      <td>Indian renewable energy company focusing on so...</td>\n",
       "      <td>Solar, Wind, Green Hydrogen</td>\n",
       "      <td>NaN</td>\n",
       "      <td>acme.in</td>\n",
       "      <td>NaN</td>\n",
       "      <td>India</td>\n",
       "      <td>English</td>\n",
       "      <td>2003-01-01</td>\n",
       "      <td>Private</td>\n",
       "      <td>₹40 billion</td>\n",
       "      <td>USD</td>\n",
       "      <td>472000000.0</td>\n",
       "      <td>NaT</td>\n",
       "    </tr>\n",
       "    <tr>\n",
       "      <th>2</th>\n",
       "      <td>Other</td>\n",
       "      <td>Electric Mobility</td>\n",
       "      <td>Adaptive City Mobility</td>\n",
       "      <td>Developed lightweight electric vehicles with s...</td>\n",
       "      <td>Electric Vehicles, Urban Mobility</td>\n",
       "      <td>NaN</td>\n",
       "      <td>NaN</td>\n",
       "      <td>NaN</td>\n",
       "      <td>Germany</td>\n",
       "      <td>German</td>\n",
       "      <td>2013-01-01</td>\n",
       "      <td>Insolvent</td>\n",
       "      <td>NaN</td>\n",
       "      <td>USD</td>\n",
       "      <td>NaN</td>\n",
       "      <td>NaT</td>\n",
       "    </tr>\n",
       "    <tr>\n",
       "      <th>3</th>\n",
       "      <td>Other</td>\n",
       "      <td>Battery Technology</td>\n",
       "      <td>Addionics</td>\n",
       "      <td>Israeli startup redesigning battery architectu...</td>\n",
       "      <td>Battery, 3D Electrodes</td>\n",
       "      <td>NaN</td>\n",
       "      <td>addionics.com</td>\n",
       "      <td>NaN</td>\n",
       "      <td>Israel</td>\n",
       "      <td>English</td>\n",
       "      <td>2017-01-01</td>\n",
       "      <td>Private</td>\n",
       "      <td>NaN</td>\n",
       "      <td>USD</td>\n",
       "      <td>NaN</td>\n",
       "      <td>NaT</td>\n",
       "    </tr>\n",
       "    <tr>\n",
       "      <th>4</th>\n",
       "      <td>Other</td>\n",
       "      <td>Recycling Technology</td>\n",
       "      <td>Agilyx</td>\n",
       "      <td>Develops advanced recycling technologies to co...</td>\n",
       "      <td>Recycling, Plastics</td>\n",
       "      <td>NaN</td>\n",
       "      <td>agilyx.com</td>\n",
       "      <td>@agilyx</td>\n",
       "      <td>United States of America</td>\n",
       "      <td>English</td>\n",
       "      <td>2014-01-01</td>\n",
       "      <td>Private</td>\n",
       "      <td>$31M</td>\n",
       "      <td>$31M</td>\n",
       "      <td>NaN</td>\n",
       "      <td>NaT</td>\n",
       "    </tr>\n",
       "  </tbody>\n",
       "</table>\n",
       "</div>"
      ],
      "text/plain": [
       "      Megatrend                  Area                    Firm  \\\n",
       "0         Other        Energy Storage                Aceleron   \n",
       "1  Clean Energy      Renewable Energy              ACME Group   \n",
       "2         Other     Electric Mobility  Adaptive City Mobility   \n",
       "3         Other    Battery Technology               Addionics   \n",
       "4         Other  Recycling Technology                  Agilyx   \n",
       "\n",
       "                                   Short Description  \\\n",
       "0  Develops serviceable, upgradeable, and recycla...   \n",
       "1  Indian renewable energy company focusing on so...   \n",
       "2  Developed lightweight electric vehicles with s...   \n",
       "3  Israeli startup redesigning battery architectu...   \n",
       "4  Develops advanced recycling technologies to co...   \n",
       "\n",
       "                            Keywords Role of Utility             Website  \\\n",
       "0          Battery, Circular Economy             NaN  aceleronenergy.com   \n",
       "1        Solar, Wind, Green Hydrogen             NaN             acme.in   \n",
       "2  Electric Vehicles, Urban Mobility             NaN                 NaN   \n",
       "3             Battery, 3D Electrodes             NaN       addionics.com   \n",
       "4                Recycling, Plastics             NaN          agilyx.com   \n",
       "\n",
       "  Twitter Handle                   Country Language Year Founded  \\\n",
       "0            NaN            United Kingdom  English   2016-01-01   \n",
       "1            NaN                     India  English   2003-01-01   \n",
       "2            NaN                   Germany   German   2013-01-01   \n",
       "3            NaN                    Israel  English   2017-01-01   \n",
       "4        @agilyx  United States of America  English   2014-01-01   \n",
       "\n",
       "  Funding Status Total Funding Amount (National Currency) Currency  \\\n",
       "0        Private                            £10.6 million      USD   \n",
       "1        Private                              ₹40 billion      USD   \n",
       "2      Insolvent                                      NaN      USD   \n",
       "3        Private                                      NaN      USD   \n",
       "4        Private                                     $31M     $31M   \n",
       "\n",
       "   Total Funding Amount (USD) IPO Date  \n",
       "0                  14098000.0      NaT  \n",
       "1                 472000000.0      NaT  \n",
       "2                         NaN      NaT  \n",
       "3                         NaN      NaT  \n",
       "4                         NaN      NaT  "
      ]
     },
     "execution_count": 2,
     "metadata": {},
     "output_type": "execute_result"
    }
   ],
   "source": [
    "DATA_PATH = Path(\"/Users/andreagarzanacif/Desktop/sparkvista_dataset.csv\")\n",
    "df_raw = pd.read_csv(DATA_PATH)\n",
    "# Aseguramos que sean string\n",
    "df_raw['Year Founded'] = df_raw['Year Founded'].astype(str)\n",
    "df_raw['IPO Date'] = df_raw['IPO Date'].astype(str)\n",
    "\n",
    "# Extraemos el año de 4 dígitos\n",
    "df_raw['Year Founded'] = df_raw['Year Founded'].str.extract(r'(\\d{4})')\n",
    "df_raw['IPO Date'] = df_raw['IPO Date'].str.extract(r'(\\d{4})')\n",
    "\n",
    "# Convertimos a numérico\n",
    "df_raw['Year Founded'] = pd.to_numeric(df_raw['Year Founded'], errors='coerce')\n",
    "df_raw['IPO Date'] = pd.to_numeric(df_raw['IPO Date'], errors='coerce')\n",
    "\n",
    "# Convertimos a enteros nullables\n",
    "df_raw['Year Founded'] = df_raw['Year Founded'].astype('Int64')\n",
    "df_raw['IPO Date'] = df_raw['IPO Date'].astype('Int64')\n",
    "#convertir a datetime\n",
    "df_raw['Year Founded'] = pd.to_datetime(df_raw['Year Founded'], format='%Y', errors='coerce')\n",
    "df_raw['IPO Date'] = pd.to_datetime(df_raw['IPO Date'], format='%Y', errors='coerce')\n",
    "print(f\"Shape original: {df_raw.shape}\")\n",
    "df_raw.head()"
   ]
  },
  {
   "cell_type": "code",
   "execution_count": 3,
   "id": "a7a3e96b-913c-4836-a061-3840ff5ef409",
   "metadata": {},
   "outputs": [
    {
     "name": "stdout",
     "output_type": "stream",
     "text": [
      "X shape: (651, 15) | y shape: (651,)\n"
     ]
    }
   ],
   "source": [
    "#Establecer el objetivo de las caracteristicas\n",
    "TARGET_COL = \"Total Funding Amount (USD)\" \n",
    "\n",
    "drop_cols = [col for col in [\"Total Funding Amount (USD)\"]\n",
    "             if col in df_raw.columns]\n",
    "y = df_raw[TARGET_COL].copy()\n",
    "X = df_raw.drop(columns=drop_cols).copy()\n",
    "\n",
    "print(\"X shape:\", X.shape, \"| y shape:\", y.shape)\n"
   ]
  },
  {
   "cell_type": "code",
   "execution_count": 7,
   "id": "8d80c32e-6d14-4003-b7b6-231e4ea98d20",
   "metadata": {},
   "outputs": [
    {
     "name": "stdout",
     "output_type": "stream",
     "text": [
      "Variables numéricas: []\n",
      "Variables categóricas: ['Megatrend', 'Area', 'Firm', 'Short Description', 'Keywords', 'Role of Utility', 'Website', 'Twitter Handle', 'Country', 'Language', 'Funding Status', 'Total Funding Amount (National Currency)', 'Currency']\n"
     ]
    }
   ],
   "source": [
    "num_cols = X.select_dtypes(include=['number']).columns.tolist()\n",
    "cat_cols = X.select_dtypes(include=['object']).columns.tolist()\n",
    "print(\"Variables numéricas:\", num_cols)\n",
    "print(\"Variables categóricas:\", cat_cols)"
   ]
  },
  {
   "cell_type": "code",
   "execution_count": 8,
   "id": "f513b779-3949-40e8-a6c0-0ea3d04e1227",
   "metadata": {
    "scrolled": true
   },
   "outputs": [
    {
     "name": "stdout",
     "output_type": "stream",
     "text": [
      "Shape tras preparación: (651, 553)\n"
     ]
    }
   ],
   "source": [
    "#Inicia analisis avanzado\n",
    "\n",
    "#Subpipelines\n",
    "num_pipe = Pipeline([\n",
    "    (\"imputer\", SimpleImputer(strategy=\"median\")),\n",
    "    (\"scaler\",  StandardScaler())\n",
    "])\n",
    "\n",
    "cat_pipe = Pipeline([\n",
    "    (\"imputer\", SimpleImputer(strategy=\"most_frequent\")),\n",
    "    (\"ohe\",     OneHotEncoder(\n",
    "        handle_unknown=\"ignore\",\n",
    "        sparse_output=False\n",
    "    ))\n",
    "])\n",
    "\n",
    "#Preprocesamos la información\n",
    "preprocessor = ColumnTransformer([\n",
    "    (\"num\", num_pipe, num_cols),\n",
    "    (\"cat\", cat_pipe, cat_cols)\n",
    "])\n",
    "\n",
    "#Selección de post caracteristicas\n",
    "postprocessor = Pipeline([\n",
    "    (\"var_thresh\", VarianceThreshold(threshold=0.0)),\n",
    "    (\"pca\",        PCA(n_components=0.95, random_state=42))\n",
    "])\n",
    "\n",
    "#Pipeline Global\n",
    "full_pipeline = Pipeline([\n",
    "    (\"prep\", preprocessor),\n",
    "    (\"fs\",   postprocessor)\n",
    "])\n",
    "\n",
    "#Ejecucción\n",
    "X_ready = full_pipeline.fit_transform(X)\n",
    "print(f\"Shape tras preparación: {X_ready.shape}\")\n"
   ]
  },
  {
   "cell_type": "code",
   "execution_count": 9,
   "id": "78294e9a-6e13-4978-93ad-96aa3934feaf",
   "metadata": {},
   "outputs": [
    {
     "name": "stdout",
     "output_type": "stream",
     "text": [
      "Matriz X_ready guardada en:/Users/andreagarzanacif/Desktop/ /Users/andreagarzanacif/Desktop/X_prepared.npy\n"
     ]
    }
   ],
   "source": [
    "# ---------------- 4 · GUARDAR MATRIZ PROCESADA (opcional) -------------\n",
    "out_path = DATA_PATH.with_name(\"X_prepared.npy\")\n",
    "np.save(out_path, X_ready)\n",
    "print(\"Matriz X_ready guardada en:/Users/andreagarzanacif/Desktop/\",out_path )\n"
   ]
  },
  {
   "cell_type": "code",
   "execution_count": 10,
   "id": "f921f238-4cb7-4f55-ae35-573fff74e113",
   "metadata": {},
   "outputs": [
    {
     "data": {
      "text/markdown": [
       "\n",
       "### Conclusiones\n",
       "\n",
       "\n",
       "1. **Transformaciones aplicadas**  \n",
       "   * **One-Hot Encoding** convirtió **13** variables categóricas en un\n",
       "     espacio numérico sin perder información.  \n",
       "   * **Estandarización** normalizó **0** variables numéricas; esto\n",
       "     evita dominancia de escalas en algoritmos sensibles a la magnitud.\n",
       "\n",
       "2. **Reducción de dimensionalidad**  \n",
       "   * **VarianceThreshold** descartó **0** rasgos casi constantes,\n",
       "     reduciendo ruido y costes de cómputo.  \n",
       "   * **PCA** comprimió la información en **553** componentes principales\n",
       "     conservando ≥ 95 % de la varianza total; se mitigó colinealidad y se\n",
       "     acelerará el entrenamiento de modelos posteriores.\n",
       "\n",
       "3. **Impacto Futuro**  \n",
       "   * La salida `X_ready` es un **dataset consistente, compacto y\n",
       "     escalado**, listo para la fase *Modeling*.  \n"
      ],
      "text/plain": [
       "<IPython.core.display.Markdown object>"
      ]
     },
     "metadata": {},
     "output_type": "display_data"
    }
   ],
   "source": [
    "\n",
    "vt      = full_pipeline.named_steps[\"fs\"].named_steps[\"var_thresh\"]\n",
    "pca     = full_pipeline.named_steps[\"fs\"].named_steps[\"pca\"]\n",
    "\n",
    "varianza_total_inicial = vt.variances_.shape[0]           # Número de variables al inicio\n",
    "n_variables_utilizadas = vt.get_support().sum()           # Variables retenidas tras umbral de varianza\n",
    "n_variables_eliminadas = varianza_total_inicial - n_variables_utilizadas  # Variables eliminadas por baja varianza\n",
    "n_componentes_pca      = pca.n_components_                # Componentes retenidas por PCA              \n",
    "\n",
    "conclusions = f\"\"\"\n",
    "### Conclusiones\n",
    "\n",
    "\n",
    "1. **Transformaciones aplicadas**  \n",
    "   * **One-Hot Encoding** convirtió **{len(cat_cols)}** variables categóricas en un\n",
    "     espacio numérico sin perder información.  \n",
    "\n",
    "2. **Reducción de dimensionalidad**  \n",
    "   * **VarianceThreshold** descartó **{n_variables_eliminadas}** rasgos casi constantes,\n",
    "     reduciendo ruido y costes de cómputo.  \n",
    "   * **PCA** comprimió la información en **{n_componentes_pca}** componentes principales\n",
    "     conservando ≥ 95 % de la varianza total; se mitigó colinealidad y se\n",
    "     acelerará el entrenamiento de modelos posteriores.\n",
    "\n",
    "3. **Impacto Futuro**  \n",
    "   * La salida `X_ready` es un **dataset consistente, compacto y\n",
    "     escalado**, listo para la fase *Modeling*.  \n",
    "\"\"\"\n",
    "\n",
    "display(Markdown(conclusions))\n"
   ]
  }
 ],
 "metadata": {
  "kernelspec": {
   "display_name": "Python 3 (ipykernel)",
   "language": "python",
   "name": "python3"
  },
  "language_info": {
   "codemirror_mode": {
    "name": "ipython",
    "version": 3
   },
   "file_extension": ".py",
   "mimetype": "text/x-python",
   "name": "python",
   "nbconvert_exporter": "python",
   "pygments_lexer": "ipython3",
   "version": "3.13.3"
  }
 },
 "nbformat": 4,
 "nbformat_minor": 5
}
